{
 "cells": [
  {
   "cell_type": "markdown",
   "metadata": {},
   "source": [
    "<img src=\"images/jupiter.png\" width=\"200\" height=\"200\"/>"
   ]
  },
  {
   "cell_type": "markdown",
   "metadata": {},
   "source": [
    "# Using Jupyter"
   ]
  },
  {
   "cell_type": "markdown",
   "metadata": {},
   "source": [
    "## Markdown cells\n",
    "\n",
    "This is a Markdown (documentation) cell, for adding documentation and comments to a notebook. It uses Markdown, a text styling language, as well as HTML. When a Markdown cell is \"run\", it converts the contents of the cell into HTML, which is then rendered and displayed.\n",
    "\n",
    "Double-click on a Markdown cell to see its source.\n",
    "\n",
    "This is **more** _markdown_. Surround text with double asterisk for bold, or single underline for italic. \n",
    "\n",
    "See the Notebook named **JupyterMarkdownGuide** for details. "
   ]
  },
  {
   "cell_type": "markdown",
   "metadata": {},
   "source": [
    "###  Code Cells\n",
    "\n",
    "Code cells contain Python (or other language) code. When a code cell is run, it executes the code, and shows the output below the cell. The output is retained unless you explicitly clear it. "
   ]
  },
  {
   "cell_type": "code",
   "execution_count": null,
   "metadata": {},
   "outputs": [],
   "source": [
    "x = 3"
   ]
  },
  {
   "cell_type": "code",
   "execution_count": null,
   "metadata": {},
   "outputs": [],
   "source": [
    "for i in range(3):\n",
    "    print(i)"
   ]
  },
  {
   "cell_type": "code",
   "execution_count": null,
   "metadata": {},
   "outputs": [],
   "source": []
  },
  {
   "cell_type": "code",
   "execution_count": null,
   "metadata": {},
   "outputs": [],
   "source": [
    "print(\"wombat\")"
   ]
  },
  {
   "cell_type": "code",
   "execution_count": null,
   "metadata": {},
   "outputs": [],
   "source": []
  },
  {
   "cell_type": "code",
   "execution_count": null,
   "metadata": {},
   "outputs": [],
   "source": [
    "print(x)"
   ]
  },
  {
   "cell_type": "markdown",
   "metadata": {},
   "source": [
    "## It's all one program\n",
    "\n",
    "All code is run in the same instance of the Python interpreter, so that objects created in one cell are available to other cells, as long as the first cell has been run."
   ]
  },
  {
   "cell_type": "code",
   "execution_count": null,
   "metadata": {},
   "outputs": [],
   "source": [
    "from datetime import date as Date"
   ]
  },
  {
   "cell_type": "code",
   "execution_count": null,
   "metadata": {},
   "outputs": [],
   "source": [
    "then = Date(2011,5,22)"
   ]
  },
  {
   "cell_type": "code",
   "execution_count": null,
   "metadata": {},
   "outputs": [],
   "source": [
    "print(then.year)"
   ]
  },
  {
   "cell_type": "code",
   "execution_count": null,
   "metadata": {},
   "outputs": [],
   "source": [
    "%pinfo then"
   ]
  },
  {
   "cell_type": "markdown",
   "metadata": {},
   "source": [
    "## Getting help\n",
    "Putting a ? before (or after) any object displays help for that object. Using ?? will add more detailed help, if available. (The output will be in a separate pane at the bottom of the browser window)."
   ]
  },
  {
   "cell_type": "code",
   "execution_count": 12,
   "metadata": {},
   "outputs": [],
   "source": [
    "i?"
   ]
  },
  {
   "cell_type": "code",
   "execution_count": null,
   "metadata": {},
   "outputs": [],
   "source": [
    "Date??"
   ]
  },
  {
   "cell_type": "markdown",
   "metadata": {
    "collapsed": true
   },
   "source": [
    "## Using Python's scientific libraries\n",
    "For typical use of Python's scientific libraries, put the following at the top of the notebook in a code cell:\n",
    "\n",
    "<pre>\n",
    "import pandas as pd\n",
    "import numpy as np\n",
    "import matplotlib.pyplot as plt\n",
    "</pre>\n",
    "\n",
    "Other  modules and packages should be included as needed.\n"
   ]
  },
  {
   "cell_type": "code",
   "execution_count": 13,
   "metadata": {},
   "outputs": [],
   "source": [
    "import pandas as pd\n",
    "import scipy as sp\n",
    "import numpy as np\n",
    "import matplotlib.pyplot as plt\n"
   ]
  },
  {
   "cell_type": "markdown",
   "metadata": {},
   "source": [
    "## Inline plotting\n",
    "After matplotlib is imported, use  \n",
    "the **%matplotlib inline** magic to display figures  \n",
    "as part of the notebook. Otherwise, they are  \n",
    "displayed in popup windows.   "
   ]
  },
  {
   "cell_type": "code",
   "execution_count": 14,
   "metadata": {},
   "outputs": [
    {
     "data": {
      "text/plain": [
       "[<matplotlib.lines.Line2D at 0x2792e5f0760>]"
      ]
     },
     "execution_count": 14,
     "metadata": {},
     "output_type": "execute_result"
    },
    {
     "data": {
      "image/png": "[encoded data removed]",
      "text/plain": [
       "<Figure size 432x288 with 1 Axes>"
      ]
     },
     "metadata": {
      "needs_background": "light"
     },
     "output_type": "display_data"
    }
   ],
   "source": [
    "%matplotlib inline\n",
    "values = np.random.randint(1, 100, 50)\n",
    "plt.plot(values)"
   ]
  },
  {
   "cell_type": "markdown",
   "metadata": {},
   "source": [
    "## Using HTML\n",
    "\n",
    "Since Markdown is converted to HTML, any actual HTML in a Markdown cell is used. \n",
    "\n",
    "<ul><li>red</li><li>purple</li><li>orange</li></ul>\n",
    "<br/>\n",
    "<hr/>\n",
    "Hello\n",
    "<hr/>"
   ]
  },
  {
   "cell_type": "markdown",
   "metadata": {},
   "source": [
    "## Magics\n",
    "\n",
    "iPython and Jupyter notebooks have _line magics_, which are line-oriented. Many of them execute commands or turn iPython settings on and off. \n",
    "\n",
    "Jupyter has _cell magics_, which apply to the entire cell. "
   ]
  },
  {
   "cell_type": "code",
   "execution_count": null,
   "metadata": {},
   "outputs": [],
   "source": [
    "%lsmagic"
   ]
  },
  {
   "cell_type": "code",
   "execution_count": null,
   "metadata": {},
   "outputs": [],
   "source": [
    "!hostname\n",
    "h = !hostname\n",
    "print(h)"
   ]
  },
  {
   "cell_type": "markdown",
   "metadata": {},
   "source": [
    "## Command palette\n",
    "You can bring up the _command palette_ to find any Jupyter/iPython command using Shift-Control-P (Shift-Command-P on Mac)"
   ]
  },
  {
   "cell_type": "markdown",
   "metadata": {},
   "source": [
    "## Running external Python scripts\n",
    "\n",
    "Use the **%run** magic to launch an external Python script"
   ]
  },
  {
   "cell_type": "code",
   "execution_count": null,
   "metadata": {},
   "outputs": [],
   "source": [
    "%run ../EXAMPLES/my_vars.py"
   ]
  },
  {
   "cell_type": "code",
   "execution_count": null,
   "metadata": {},
   "outputs": [],
   "source": [
    "print(user_name)\n",
    "print(animal)\n",
    "print(snake)"
   ]
  },
  {
   "cell_type": "markdown",
   "metadata": {},
   "source": [
    "## Loading scripts into cells\n",
    "\n",
    "Use the **%load** magic to read a separate Python script into the current cell. After it's loaded, it can be run like any other cell.\n",
    "\n",
    "Once the code is loaded into the cell, the **%load** command is commented out"
   ]
  },
  {
   "cell_type": "code",
   "execution_count": null,
   "metadata": {},
   "outputs": [],
   "source": [
    "# %load ../EXAMPLES/read_tyger.py\n",
    "#!/usr/bin/env python\n",
    "\n",
    "with open(\"../DATA/tyger.txt\", \"r\") as tyger_in:  # <1>\n",
    "    for line in tyger_in:  # <2>\n",
    "        print(line, end='')  # <3>\n"
   ]
  },
  {
   "cell_type": "code",
   "execution_count": null,
   "metadata": {},
   "outputs": [],
   "source": [
    "%load imports.py"
   ]
  },
  {
   "cell_type": "markdown",
   "metadata": {},
   "source": [
    "## Using LaTeX\n",
    "\n",
    "Markdown cells can render LaTeX via MathJax. Put the LaTeX code inside a pair of dollar signs: **\\$\\rho\\$:**\n",
    "\n",
    "$\\rho$, $\\rho$, $\\rho$ your boat"
   ]
  },
  {
   "cell_type": "markdown",
   "metadata": {},
   "source": [
    "$\\mathbf{V}_1 \\times \\mathbf{V}_2 =  \\begin{vmatrix} \\\n",
    "\\mathbf{i} & \\mathbf{j} & \\mathbf{k}  \\\\\n",
    "\\frac{\\partial X}{\\part\n",
    "ial u} & \\frac{\\partial Y}{\\partial u} & 0\\\\\n",
    "\\frac{\\partial X}{\\partial v} & \\frac{\\partial Y}{\\partial v} & 0\\\\\n",
    "\\end{vmatrix}$ \n",
    "\n",
    "$\\left( \\sum_{k=1}^n a_k b_k \\right)^2 \\leq \\left( \\sum_{k=1}^n a_k^2 \\right) \\left( \\sum_{k=1}^n b_k^2 \\right)$"
   ]
  },
  {
   "cell_type": "markdown",
   "metadata": {},
   "source": [
    "### Can you read this limerick?"
   ]
  },
  {
   "cell_type": "markdown",
   "metadata": {},
   "source": [
    "\n",
    "$\\frac{12 + 144  + 20 + 3\\sqrt{4}}{7} + (5 * 11) = 9^2 + 0$ <br/>\n",
    "\n",
    "<i>See text of limerick at the bottom of this notebook</i>\n",
    "\n"
   ]
  },
  {
   "cell_type": "markdown",
   "metadata": {},
   "source": [
    "## Getting info"
   ]
  },
  {
   "cell_type": "code",
   "execution_count": null,
   "metadata": {},
   "outputs": [],
   "source": [
    "from scipy import stats\n",
    "sp.info(stats)"
   ]
  },
  {
   "cell_type": "markdown",
   "metadata": {},
   "source": [
    "## Benchmarking\n",
    "\n",
    "The **%%timeit** cell magic will execute the code in the cell and report the average time it took to execute it. "
   ]
  },
  {
   "cell_type": "code",
   "execution_count": null,
   "metadata": {},
   "outputs": [],
   "source": [
    "fruits = [\"pomegranate\", \"cherry\", \"apricot\", \"date\", \"Apple\",\n",
    "\"lemon\", \"Kiwi\", \"ORANGE\", \"lime\", \"Watermelon\", \"guava\",\n",
    "\"Papaya\", \"FIG\", \"pear\", \"banana\", \"Tamarind\", \"Persimmon\",\n",
    "\"elderberry\", \"peach\", \"BLUEberry\", \"lychee\", \"GRAPE\" ]\n"
   ]
  },
  {
   "cell_type": "markdown",
   "metadata": {},
   "source": [
    "#### Benchmark with *for* loop"
   ]
  },
  {
   "cell_type": "code",
   "execution_count": null,
   "metadata": {},
   "outputs": [],
   "source": [
    "%%timeit 100\n",
    "f1 = []\n",
    "for f in fruits:\n",
    "    f1.append(f[:3])"
   ]
  },
  {
   "cell_type": "markdown",
   "metadata": {},
   "source": [
    "#### Benchmark with list comprehension"
   ]
  },
  {
   "cell_type": "code",
   "execution_count": null,
   "metadata": {},
   "outputs": [],
   "source": [
    "%%timeit 100\n",
    "f2 = [f[:3] for f in fruits]"
   ]
  },
  {
   "cell_type": "markdown",
   "metadata": {
    "collapsed": true
   },
   "source": [
    "## Images\n",
    "\n",
    "You can insert images into doc cells using the Markdown image tag:\n",
    "\n",
    "_The following uses a Markdown table to arrange the images._ \n",
    "\n",
    "| Guido        | Tim          | Wombat  |\n",
    "| ------------- |:-------------:| -----:|\n",
    "| ![Guido](images/guido.png)|  ![Tim](images/tim.jpg) |![wombat](images/wombat.jpg) |\n"
   ]
  },
  {
   "cell_type": "markdown",
   "metadata": {
    "collapsed": true
   },
   "source": [
    "### The limerick\n",
    "\n",
    "A dozen, a gross, and a score<br/>\n",
    "Plus three times the square root of four<br/>\n",
    "Divided by seven<br/>\n",
    "Plus five times eleven<br/>\n",
    "Is nine squared and not a bit more.<br/>\n"
   ]
  },
  {
   "cell_type": "code",
   "execution_count": null,
   "metadata": {},
   "outputs": [],
   "source": []
  }
 ],
 "metadata": {
  "kernelspec": {
   "display_name": "Python 3 (ipykernel)",
   "language": "python",
   "name": "python3"
  },
  "language_info": {
   "codemirror_mode": {
    "name": "ipython",
    "version": 3
   },
   "file_extension": ".py",
   "mimetype": "text/x-python",
   "name": "python",
   "nbconvert_exporter": "python",
   "pygments_lexer": "ipython3",
   "version": "3.9.12"
  }
 },
 "nbformat": 4,
 "nbformat_minor": 1
}
